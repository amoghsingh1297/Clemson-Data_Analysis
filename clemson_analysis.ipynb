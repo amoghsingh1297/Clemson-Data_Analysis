{
 "cells": [
  {
   "cell_type": "code",
   "execution_count": 85,
   "id": "3c845de7-fe7f-4654-b5e1-ab943ef273be",
   "metadata": {},
   "outputs": [],
   "source": [
    "import pandas as pd\n",
    "import matplotlib.pyplot as plt\n",
    "%matplotlib inline\n"
   ]
  },
  {
   "cell_type": "code",
   "execution_count": 110,
   "id": "c4ca7b7d-ad8e-49a4-ade5-a587ea5c22fe",
   "metadata": {},
   "outputs": [],
   "source": [
    "df=pd.read_excel('clemson_student.xlsx',engine='openpyxl')"
   ]
  },
  {
   "cell_type": "code",
   "execution_count": 111,
   "id": "0335aeae-971a-4d6a-98cc-0e3b80334861",
   "metadata": {},
   "outputs": [],
   "source": [
    "df.columns=[str.lower('_'.join(col.split())) for col in df.columns]"
   ]
  },
  {
   "cell_type": "code",
   "execution_count": 193,
   "id": "caa94235-e7c4-4658-a21c-1478f64ce43e",
   "metadata": {},
   "outputs": [],
   "source": [
    "# df.info()"
   ]
  },
  {
   "cell_type": "code",
   "execution_count": 89,
   "id": "81d25172-78e8-4060-be6f-791ebc3ca3c9",
   "metadata": {},
   "outputs": [
    {
     "data": {
      "text/plain": [
       "(89, 30)"
      ]
     },
     "execution_count": 89,
     "metadata": {},
     "output_type": "execute_result"
    }
   ],
   "source": [
    "df.shape"
   ]
  },
  {
   "cell_type": "code",
   "execution_count": null,
   "id": "18483c39-fa06-4d80-b7c5-8310e2b57a81",
   "metadata": {},
   "outputs": [],
   "source": []
  },
  {
   "cell_type": "markdown",
   "id": "8e4466f4-f0f1-4cb8-8ba2-e19938fa646f",
   "metadata": {},
   "source": [
    "<h1>R1 R2</h1>"
   ]
  },
  {
   "cell_type": "code",
   "execution_count": 90,
   "id": "7b63d10e-2f3b-401d-aa1c-7ebf36741153",
   "metadata": {},
   "outputs": [
    {
     "name": "stdout",
     "output_type": "stream",
     "text": [
      "<class 'pandas.core.frame.DataFrame'>\n",
      "RangeIndex: 89 entries, 0 to 88\n",
      "Data columns (total 30 columns):\n",
      " #   Column                                                                Non-Null Count  Dtype         \n",
      "---  ------                                                                --------------  -----         \n",
      " 0   timestamp                                                             55 non-null     datetime64[ns]\n",
      " 1   name                                                                  7 non-null      object        \n",
      " 2   email                                                                 79 non-null     object        \n",
      " 3   gender                                                                89 non-null     object        \n",
      " 4   current_degree                                                        89 non-null     object        \n",
      " 5   current_major                                                         89 non-null     object        \n",
      " 6   previous_degree                                                       83 non-null     object        \n",
      " 7   previous_degree_instructional_method                                  89 non-null     object        \n",
      " 8   previous_major                                                        81 non-null     object        \n",
      " 9   course_1_name                                                         86 non-null     object        \n",
      " 10  is_this_course_different_from_current_major?                          88 non-null     object        \n",
      " 11  instructional_method_for_course_1                                     88 non-null     object        \n",
      " 12  level_of_satisfaction_for_course_1                                    88 non-null     object        \n",
      " 13  grade_for_course_1                                                    86 non-null     object        \n",
      " 14  course_2_name                                                         82 non-null     object        \n",
      " 15  is_this_course_different_from_current_major                           82 non-null     object        \n",
      " 16  instructional_method_for_course_2                                     82 non-null     object        \n",
      " 17  level_of_satisfaction_for_course_2                                    82 non-null     object        \n",
      " 18  grade_for_course_2                                                    82 non-null     object        \n",
      " 19  course_3_name                                                         80 non-null     object        \n",
      " 20  is_this_course_different_from_current_major                           80 non-null     object        \n",
      " 21  instructional_method_for_course_3                                     80 non-null     object        \n",
      " 22  level_of_satisfaction_for_course_3                                    80 non-null     object        \n",
      " 23  grade_for_course_3                                                    80 non-null     object        \n",
      " 24  graduating_year                                                       85 non-null     float64       \n",
      " 25  which_learning_methodology_is_better_while_working_in_teams?          85 non-null     object        \n",
      " 26  preferred_method_for_attending_classes                                85 non-null     object        \n",
      " 27  is_commute_time_a_factor_effecting_the_above_answer?                  85 non-null     object        \n",
      " 28  unnamed:_28                                                           0 non-null      float64       \n",
      " 29  i_agree_that_the_above_provided_information_can_be_used_for_research  72 non-null     object        \n",
      "dtypes: datetime64[ns](1), float64(2), object(27)\n",
      "memory usage: 21.0+ KB\n"
     ]
    }
   ],
   "source": [
    "df.info()"
   ]
  },
  {
   "cell_type": "code",
   "execution_count": 91,
   "id": "a7268034-7777-4b82-b651-3b1a40d173f5",
   "metadata": {},
   "outputs": [],
   "source": [
    "temp=pd.DataFrame(columns=['current_degree','previous_degree','previous_degree_instructional_method','gender','course','instructional_method','los','grade'])\n",
    "\n",
    "for i in range(1,4) :\n",
    "    t=df.loc[:,['current_degree','previous_degree','previous_degree_instructional_method','gender',f'course_{i}_name',f'instructional_method_for_course_{i}',f'level_of_satisfaction_for_course_{i}',f'grade_for_course_{i}']]\n",
    "    t.columns=['current_degree','previous_degree','previous_degree_instructional_method','gender','course','instructional_method','los','grade']\n",
    "    temp=temp.append(t)\n",
    "temp=temp.dropna()                   \n",
    "temp=temp.reset_index(drop=True)     \n",
    "temp.grade=temp.grade.apply(lambda s : 'B' if s in ('C','D') else s)\n",
    "temp=temp.dropna()"
   ]
  },
  {
   "cell_type": "code",
   "execution_count": 92,
   "id": "fb86dead-66ae-4e9b-b9d3-4eaf6e0ee128",
   "metadata": {},
   "outputs": [
    {
     "data": {
      "text/plain": [
       "(232, 8)"
      ]
     },
     "execution_count": 92,
     "metadata": {},
     "output_type": "execute_result"
    }
   ],
   "source": [
    "temp.shape"
   ]
  },
  {
   "cell_type": "code",
   "execution_count": 93,
   "id": "cc08d13b-45d8-4012-ac16-a81dde8d9434",
   "metadata": {},
   "outputs": [
    {
     "data": {
      "text/plain": [
       "Online      108\n",
       "Inperson     82\n",
       "Both         42\n",
       "Name: instructional_method, dtype: int64"
      ]
     },
     "execution_count": 93,
     "metadata": {},
     "output_type": "execute_result"
    }
   ],
   "source": [
    "temp.instructional_method.value_counts()"
   ]
  },
  {
   "cell_type": "code",
   "execution_count": 94,
   "id": "cb2d81ee-4c74-403a-84d5-2005ac7fd581",
   "metadata": {},
   "outputs": [],
   "source": [
    "r1_df=temp.copy()"
   ]
  },
  {
   "cell_type": "code",
   "execution_count": 81,
   "id": "e50b93ed-89d8-4dd7-9aa0-0dc135282b47",
   "metadata": {},
   "outputs": [],
   "source": [
    "temp['r2_indicator']=''\n",
    "indicator=[]\n",
    "for i,each in temp.iterrows() :\n",
    "    if ((each['previous_degree']==\"Bachelor's\") or (each['previous_degree']==\"Master's\"))\\\n",
    "    and (each['previous_degree_instructional_method']=='offline') and (each['instructional_method']=='Online'):\n",
    "        indicator.append('class1')\n",
    "    elif (each['current_degree']==\"Bachelor's\") and ((each['instructional_method']=='Online') | (each['instructional_method']=='Both')):\n",
    "        indicator.append('class2')\n",
    "    else :\n",
    "        indicator.append('r2_NA')\n",
    "temp['r2_indicator']=indicator\n"
   ]
  },
  {
   "cell_type": "code",
   "execution_count": 65,
   "id": "7e5b052f-03c6-41dd-bed0-0faec1da252a",
   "metadata": {},
   "outputs": [
    {
     "data": {
      "text/plain": [
       "r2_NA     178\n",
       "class1     52\n",
       "class2      2\n",
       "Name: r2_indicator, dtype: int64"
      ]
     },
     "execution_count": 65,
     "metadata": {},
     "output_type": "execute_result"
    }
   ],
   "source": [
    "temp.r2_indicator.value_counts()"
   ]
  },
  {
   "cell_type": "code",
   "execution_count": 82,
   "id": "8754fe68-1b83-4c46-85ec-ca3142310d58",
   "metadata": {},
   "outputs": [],
   "source": [
    "r2_df=temp.loc[~(temp.r2_indicator=='r2_NA')]"
   ]
  },
  {
   "cell_type": "code",
   "execution_count": 83,
   "id": "8236dbb3-b881-4d30-a75f-fcbb95a9cef1",
   "metadata": {},
   "outputs": [
    {
     "data": {
      "text/html": [
       "<div>\n",
       "<style scoped>\n",
       "    .dataframe tbody tr th:only-of-type {\n",
       "        vertical-align: middle;\n",
       "    }\n",
       "\n",
       "    .dataframe tbody tr th {\n",
       "        vertical-align: top;\n",
       "    }\n",
       "\n",
       "    .dataframe thead th {\n",
       "        text-align: right;\n",
       "    }\n",
       "</style>\n",
       "<table border=\"1\" class=\"dataframe\">\n",
       "  <thead>\n",
       "    <tr style=\"text-align: right;\">\n",
       "      <th>grade</th>\n",
       "      <th>A</th>\n",
       "      <th>B</th>\n",
       "    </tr>\n",
       "    <tr>\n",
       "      <th>r2_indicator</th>\n",
       "      <th></th>\n",
       "      <th></th>\n",
       "    </tr>\n",
       "  </thead>\n",
       "  <tbody>\n",
       "    <tr>\n",
       "      <th>class1</th>\n",
       "      <td>40</td>\n",
       "      <td>12</td>\n",
       "    </tr>\n",
       "    <tr>\n",
       "      <th>class2</th>\n",
       "      <td>1</td>\n",
       "      <td>1</td>\n",
       "    </tr>\n",
       "  </tbody>\n",
       "</table>\n",
       "</div>"
      ],
      "text/plain": [
       "grade          A   B\n",
       "r2_indicator        \n",
       "class1        40  12\n",
       "class2         1   1"
      ]
     },
     "execution_count": 83,
     "metadata": {},
     "output_type": "execute_result"
    }
   ],
   "source": [
    "pd.crosstab(r2_df.r2_indicator,r2_df.grade)"
   ]
  },
  {
   "cell_type": "code",
   "execution_count": 84,
   "id": "cd44c4ca-1e86-418e-96af-9f682729ec6c",
   "metadata": {},
   "outputs": [
    {
     "name": "stdout",
     "output_type": "stream",
     "text": [
      "p value is 0.9751007561032065\n",
      "Independent (H0 holds true)\n"
     ]
    }
   ],
   "source": [
    "from scipy.stats import chi2_contingency\n",
    "  \n",
    "# defining the table\n",
    "data = pd.crosstab(r2_df.r2_indicator,r2_df.grade).values\n",
    "stat, p, dof, expected = chi2_contingency(data)\n",
    "  \n",
    "# interpret p-value\n",
    "alpha = 0.05\n",
    "print(\"p value is \" + str(p))\n",
    "if p <= alpha:\n",
    "    print('Dependent (reject H0)')\n",
    "else:\n",
    "    print('Independent (H0 holds true)')"
   ]
  },
  {
   "cell_type": "code",
   "execution_count": null,
   "id": "2a015f96-e796-4109-a479-6afea05a4e5b",
   "metadata": {},
   "outputs": [],
   "source": []
  },
  {
   "cell_type": "code",
   "execution_count": 95,
   "id": "70993fc4-886e-43f9-91bc-f44e13c23bad",
   "metadata": {},
   "outputs": [
    {
     "data": {
      "text/html": [
       "<div>\n",
       "<style scoped>\n",
       "    .dataframe tbody tr th:only-of-type {\n",
       "        vertical-align: middle;\n",
       "    }\n",
       "\n",
       "    .dataframe tbody tr th {\n",
       "        vertical-align: top;\n",
       "    }\n",
       "\n",
       "    .dataframe thead th {\n",
       "        text-align: right;\n",
       "    }\n",
       "</style>\n",
       "<table border=\"1\" class=\"dataframe\">\n",
       "  <thead>\n",
       "    <tr style=\"text-align: right;\">\n",
       "      <th></th>\n",
       "      <th>current_degree</th>\n",
       "      <th>previous_degree</th>\n",
       "      <th>previous_degree_instructional_method</th>\n",
       "      <th>gender</th>\n",
       "      <th>course</th>\n",
       "      <th>instructional_method</th>\n",
       "      <th>los</th>\n",
       "      <th>grade</th>\n",
       "    </tr>\n",
       "  </thead>\n",
       "  <tbody>\n",
       "    <tr>\n",
       "      <th>0</th>\n",
       "      <td>Master's</td>\n",
       "      <td>Bachelor's</td>\n",
       "      <td>offline</td>\n",
       "      <td>Male</td>\n",
       "      <td>Software Engineering</td>\n",
       "      <td>Online</td>\n",
       "      <td>Satisfied</td>\n",
       "      <td>A</td>\n",
       "    </tr>\n",
       "    <tr>\n",
       "      <th>1</th>\n",
       "      <td>Master's</td>\n",
       "      <td>Bachelor's</td>\n",
       "      <td>online</td>\n",
       "      <td>Female</td>\n",
       "      <td>Foundations of software engineering</td>\n",
       "      <td>Online</td>\n",
       "      <td>Satisfied</td>\n",
       "      <td>A</td>\n",
       "    </tr>\n",
       "    <tr>\n",
       "      <th>2</th>\n",
       "      <td>Master's</td>\n",
       "      <td>Bachelor's</td>\n",
       "      <td>offline</td>\n",
       "      <td>Female</td>\n",
       "      <td>Software Engineering</td>\n",
       "      <td>Both</td>\n",
       "      <td>Satisfied</td>\n",
       "      <td>A</td>\n",
       "    </tr>\n",
       "    <tr>\n",
       "      <th>3</th>\n",
       "      <td>Master's</td>\n",
       "      <td>Master's</td>\n",
       "      <td>online</td>\n",
       "      <td>Female</td>\n",
       "      <td>Advance machine learning</td>\n",
       "      <td>Online</td>\n",
       "      <td>Satisfied</td>\n",
       "      <td>A</td>\n",
       "    </tr>\n",
       "    <tr>\n",
       "      <th>4</th>\n",
       "      <td>Master's</td>\n",
       "      <td>Bachelor's</td>\n",
       "      <td>offline</td>\n",
       "      <td>Male</td>\n",
       "      <td>Human factors engineering</td>\n",
       "      <td>Inperson</td>\n",
       "      <td>Satisfied</td>\n",
       "      <td>B</td>\n",
       "    </tr>\n",
       "    <tr>\n",
       "      <th>...</th>\n",
       "      <td>...</td>\n",
       "      <td>...</td>\n",
       "      <td>...</td>\n",
       "      <td>...</td>\n",
       "      <td>...</td>\n",
       "      <td>...</td>\n",
       "      <td>...</td>\n",
       "      <td>...</td>\n",
       "    </tr>\n",
       "    <tr>\n",
       "      <th>227</th>\n",
       "      <td>Master's</td>\n",
       "      <td>Bachelor's</td>\n",
       "      <td>online</td>\n",
       "      <td>Female</td>\n",
       "      <td>Machine Learning</td>\n",
       "      <td>Inperson</td>\n",
       "      <td>Satisfied</td>\n",
       "      <td>A</td>\n",
       "    </tr>\n",
       "    <tr>\n",
       "      <th>228</th>\n",
       "      <td>Master's</td>\n",
       "      <td>Bachelor's</td>\n",
       "      <td>online</td>\n",
       "      <td>Male</td>\n",
       "      <td>Foundation of Software Engineering</td>\n",
       "      <td>Online</td>\n",
       "      <td>Satisfied</td>\n",
       "      <td>A</td>\n",
       "    </tr>\n",
       "    <tr>\n",
       "      <th>229</th>\n",
       "      <td>Master's</td>\n",
       "      <td>Bachelor's</td>\n",
       "      <td>online</td>\n",
       "      <td>Male</td>\n",
       "      <td>Project Management</td>\n",
       "      <td>Online</td>\n",
       "      <td>Satisfied</td>\n",
       "      <td>A</td>\n",
       "    </tr>\n",
       "    <tr>\n",
       "      <th>230</th>\n",
       "      <td>Master's</td>\n",
       "      <td>Bachelor's</td>\n",
       "      <td>offline</td>\n",
       "      <td>Male</td>\n",
       "      <td>Deep Learning</td>\n",
       "      <td>Online</td>\n",
       "      <td>Satisfied</td>\n",
       "      <td>A</td>\n",
       "    </tr>\n",
       "    <tr>\n",
       "      <th>231</th>\n",
       "      <td>Master's</td>\n",
       "      <td>Bachelor's</td>\n",
       "      <td>offline</td>\n",
       "      <td>Male</td>\n",
       "      <td>Human factors engineering</td>\n",
       "      <td>Inperson</td>\n",
       "      <td>Satisfied</td>\n",
       "      <td>B</td>\n",
       "    </tr>\n",
       "  </tbody>\n",
       "</table>\n",
       "<p>232 rows × 8 columns</p>\n",
       "</div>"
      ],
      "text/plain": [
       "    current_degree previous_degree previous_degree_instructional_method  \\\n",
       "0         Master's      Bachelor's                              offline   \n",
       "1         Master's      Bachelor's                               online   \n",
       "2         Master's      Bachelor's                              offline   \n",
       "3         Master's        Master's                               online   \n",
       "4         Master's      Bachelor's                              offline   \n",
       "..             ...             ...                                  ...   \n",
       "227       Master's      Bachelor's                               online   \n",
       "228       Master's      Bachelor's                               online   \n",
       "229       Master's      Bachelor's                               online   \n",
       "230       Master's      Bachelor's                              offline   \n",
       "231       Master's      Bachelor's                              offline   \n",
       "\n",
       "     gender                               course instructional_method  \\\n",
       "0      Male                 Software Engineering               Online   \n",
       "1    Female  Foundations of software engineering               Online   \n",
       "2    Female                Software Engineering                  Both   \n",
       "3    Female             Advance machine learning               Online   \n",
       "4      Male           Human factors engineering              Inperson   \n",
       "..      ...                                  ...                  ...   \n",
       "227  Female                     Machine Learning             Inperson   \n",
       "228    Male   Foundation of Software Engineering               Online   \n",
       "229    Male                   Project Management               Online   \n",
       "230    Male                        Deep Learning               Online   \n",
       "231    Male           Human factors engineering              Inperson   \n",
       "\n",
       "           los grade  \n",
       "0    Satisfied     A  \n",
       "1    Satisfied     A  \n",
       "2    Satisfied     A  \n",
       "3    Satisfied     A  \n",
       "4    Satisfied     B  \n",
       "..         ...   ...  \n",
       "227  Satisfied     A  \n",
       "228  Satisfied     A  \n",
       "229  Satisfied     A  \n",
       "230  Satisfied     A  \n",
       "231  Satisfied     B  \n",
       "\n",
       "[232 rows x 8 columns]"
      ]
     },
     "execution_count": 95,
     "metadata": {},
     "output_type": "execute_result"
    }
   ],
   "source": [
    "r1_df"
   ]
  },
  {
   "cell_type": "code",
   "execution_count": 103,
   "id": "16ada7fe-2ca1-4500-a6ec-ccca91852a25",
   "metadata": {},
   "outputs": [],
   "source": [
    "r1_tab=pd.crosstab(r1_df.instructional_method,r1_df.grade)"
   ]
  },
  {
   "cell_type": "code",
   "execution_count": 104,
   "id": "29b3ec87-8f6e-4d53-951f-ec676b68c72a",
   "metadata": {},
   "outputs": [
    {
     "data": {
      "text/html": [
       "<div>\n",
       "<style scoped>\n",
       "    .dataframe tbody tr th:only-of-type {\n",
       "        vertical-align: middle;\n",
       "    }\n",
       "\n",
       "    .dataframe tbody tr th {\n",
       "        vertical-align: top;\n",
       "    }\n",
       "\n",
       "    .dataframe thead th {\n",
       "        text-align: right;\n",
       "    }\n",
       "</style>\n",
       "<table border=\"1\" class=\"dataframe\">\n",
       "  <thead>\n",
       "    <tr style=\"text-align: right;\">\n",
       "      <th>grade</th>\n",
       "      <th>A</th>\n",
       "      <th>B</th>\n",
       "    </tr>\n",
       "    <tr>\n",
       "      <th>instructional_method</th>\n",
       "      <th></th>\n",
       "      <th></th>\n",
       "    </tr>\n",
       "  </thead>\n",
       "  <tbody>\n",
       "    <tr>\n",
       "      <th>Both</th>\n",
       "      <td>34</td>\n",
       "      <td>8</td>\n",
       "    </tr>\n",
       "    <tr>\n",
       "      <th>Inperson</th>\n",
       "      <td>56</td>\n",
       "      <td>26</td>\n",
       "    </tr>\n",
       "    <tr>\n",
       "      <th>Online</th>\n",
       "      <td>87</td>\n",
       "      <td>21</td>\n",
       "    </tr>\n",
       "  </tbody>\n",
       "</table>\n",
       "</div>"
      ],
      "text/plain": [
       "grade                  A   B\n",
       "instructional_method        \n",
       "Both                  34   8\n",
       "Inperson              56  26\n",
       "Online                87  21"
      ]
     },
     "execution_count": 104,
     "metadata": {},
     "output_type": "execute_result"
    }
   ],
   "source": [
    "r1_tab"
   ]
  },
  {
   "cell_type": "code",
   "execution_count": 105,
   "id": "4d261c7a-1887-45c4-b7e5-5ab20c338689",
   "metadata": {},
   "outputs": [],
   "source": [
    "r1_tab['im_total']=r1_tab.A+r1_tab.B"
   ]
  },
  {
   "cell_type": "code",
   "execution_count": 106,
   "id": "fdf208e3-4194-49c5-b23f-97e581d52a78",
   "metadata": {},
   "outputs": [
    {
     "data": {
      "text/html": [
       "<div>\n",
       "<style scoped>\n",
       "    .dataframe tbody tr th:only-of-type {\n",
       "        vertical-align: middle;\n",
       "    }\n",
       "\n",
       "    .dataframe tbody tr th {\n",
       "        vertical-align: top;\n",
       "    }\n",
       "\n",
       "    .dataframe thead th {\n",
       "        text-align: right;\n",
       "    }\n",
       "</style>\n",
       "<table border=\"1\" class=\"dataframe\">\n",
       "  <thead>\n",
       "    <tr style=\"text-align: right;\">\n",
       "      <th>grade</th>\n",
       "      <th>A</th>\n",
       "      <th>B</th>\n",
       "      <th>im_total</th>\n",
       "    </tr>\n",
       "    <tr>\n",
       "      <th>instructional_method</th>\n",
       "      <th></th>\n",
       "      <th></th>\n",
       "      <th></th>\n",
       "    </tr>\n",
       "  </thead>\n",
       "  <tbody>\n",
       "    <tr>\n",
       "      <th>Both</th>\n",
       "      <td>34</td>\n",
       "      <td>8</td>\n",
       "      <td>42</td>\n",
       "    </tr>\n",
       "    <tr>\n",
       "      <th>Inperson</th>\n",
       "      <td>56</td>\n",
       "      <td>26</td>\n",
       "      <td>82</td>\n",
       "    </tr>\n",
       "    <tr>\n",
       "      <th>Online</th>\n",
       "      <td>87</td>\n",
       "      <td>21</td>\n",
       "      <td>108</td>\n",
       "    </tr>\n",
       "  </tbody>\n",
       "</table>\n",
       "</div>"
      ],
      "text/plain": [
       "grade                  A   B  im_total\n",
       "instructional_method                  \n",
       "Both                  34   8        42\n",
       "Inperson              56  26        82\n",
       "Online                87  21       108"
      ]
     },
     "execution_count": 106,
     "metadata": {},
     "output_type": "execute_result"
    }
   ],
   "source": [
    "r1_tab"
   ]
  },
  {
   "cell_type": "code",
   "execution_count": 107,
   "id": "a25f8133-d838-4544-beb5-71ceebcb4ce0",
   "metadata": {},
   "outputs": [],
   "source": [
    "r1_tab['A']=(r1_tab['A']/r1_tab['im_total'])*100\n",
    "r1_tab['B']=(r1_tab['B']/r1_tab['im_total'])*100"
   ]
  },
  {
   "cell_type": "code",
   "execution_count": 108,
   "id": "aec66916-e147-40eb-9dfc-b1d29ea3effc",
   "metadata": {},
   "outputs": [
    {
     "data": {
      "text/html": [
       "<div>\n",
       "<style scoped>\n",
       "    .dataframe tbody tr th:only-of-type {\n",
       "        vertical-align: middle;\n",
       "    }\n",
       "\n",
       "    .dataframe tbody tr th {\n",
       "        vertical-align: top;\n",
       "    }\n",
       "\n",
       "    .dataframe thead th {\n",
       "        text-align: right;\n",
       "    }\n",
       "</style>\n",
       "<table border=\"1\" class=\"dataframe\">\n",
       "  <thead>\n",
       "    <tr style=\"text-align: right;\">\n",
       "      <th>grade</th>\n",
       "      <th>A</th>\n",
       "      <th>B</th>\n",
       "      <th>im_total</th>\n",
       "    </tr>\n",
       "    <tr>\n",
       "      <th>instructional_method</th>\n",
       "      <th></th>\n",
       "      <th></th>\n",
       "      <th></th>\n",
       "    </tr>\n",
       "  </thead>\n",
       "  <tbody>\n",
       "    <tr>\n",
       "      <th>Both</th>\n",
       "      <td>80.952381</td>\n",
       "      <td>19.047619</td>\n",
       "      <td>42</td>\n",
       "    </tr>\n",
       "    <tr>\n",
       "      <th>Inperson</th>\n",
       "      <td>68.292683</td>\n",
       "      <td>31.707317</td>\n",
       "      <td>82</td>\n",
       "    </tr>\n",
       "    <tr>\n",
       "      <th>Online</th>\n",
       "      <td>80.555556</td>\n",
       "      <td>19.444444</td>\n",
       "      <td>108</td>\n",
       "    </tr>\n",
       "  </tbody>\n",
       "</table>\n",
       "</div>"
      ],
      "text/plain": [
       "grade                         A          B  im_total\n",
       "instructional_method                                \n",
       "Both                  80.952381  19.047619        42\n",
       "Inperson              68.292683  31.707317        82\n",
       "Online                80.555556  19.444444       108"
      ]
     },
     "execution_count": 108,
     "metadata": {},
     "output_type": "execute_result"
    }
   ],
   "source": [
    "r1_tab"
   ]
  },
  {
   "cell_type": "code",
   "execution_count": 109,
   "id": "4a646d6c-daf4-402d-8d2f-2a23ace721f2",
   "metadata": {},
   "outputs": [
    {
     "name": "stdout",
     "output_type": "stream",
     "text": [
      "p value is 0.1058812404058686\n",
      "Independent (H0 holds true)\n"
     ]
    }
   ],
   "source": [
    "from scipy.stats import chi2_contingency\n",
    "  \n",
    "# defining the table\n",
    "data = pd.crosstab(r1_df.instructional_method,r1_df.grade).values\n",
    "stat, p, dof, expected = chi2_contingency(data)\n",
    "  \n",
    "# interpret p-value\n",
    "alpha = 0.05\n",
    "print(\"p value is \" + str(p))\n",
    "if p <= alpha:\n",
    "    print('Dependent (reject H0)')\n",
    "else:\n",
    "    print('Independent (H0 holds true)')"
   ]
  },
  {
   "cell_type": "code",
   "execution_count": null,
   "id": "9778be86-3974-4f3a-866b-f9a56b05bb55",
   "metadata": {},
   "outputs": [],
   "source": []
  },
  {
   "cell_type": "code",
   "execution_count": null,
   "id": "af1131c9-c5e0-432e-b038-23ebbe98bd6d",
   "metadata": {},
   "outputs": [],
   "source": []
  },
  {
   "cell_type": "markdown",
   "id": "27bf251c-e1c1-4a1e-b785-fd817fe3aa34",
   "metadata": {},
   "source": [
    "<h2>R4 : The fourth research objective is to find out whether commute\n",
    "time and student’s mental and emotional state impact the learning\n",
    "capability and affect the students’ performance.</h2>"
   ]
  },
  {
   "cell_type": "code",
   "execution_count": 192,
   "id": "8ed1c862-9c6d-4579-9e45-f9f51a80fc60",
   "metadata": {},
   "outputs": [],
   "source": [
    "# df.info()"
   ]
  },
  {
   "cell_type": "code",
   "execution_count": 135,
   "id": "6db5c9f3-bbd8-475e-bf8f-20716f71934f",
   "metadata": {},
   "outputs": [],
   "source": [
    "r4_df=df.iloc[:,[8,11,12,13,16,17,18,21,22,23,26,27]].copy()"
   ]
  },
  {
   "cell_type": "code",
   "execution_count": 136,
   "id": "ea0d62d7-288f-475a-9a08-ff4cfa34e326",
   "metadata": {
    "scrolled": true,
    "tags": []
   },
   "outputs": [
    {
     "data": {
      "text/html": [
       "<div>\n",
       "<style scoped>\n",
       "    .dataframe tbody tr th:only-of-type {\n",
       "        vertical-align: middle;\n",
       "    }\n",
       "\n",
       "    .dataframe tbody tr th {\n",
       "        vertical-align: top;\n",
       "    }\n",
       "\n",
       "    .dataframe thead th {\n",
       "        text-align: right;\n",
       "    }\n",
       "</style>\n",
       "<table border=\"1\" class=\"dataframe\">\n",
       "  <thead>\n",
       "    <tr style=\"text-align: right;\">\n",
       "      <th></th>\n",
       "      <th>previous_major</th>\n",
       "      <th>instructional_method_for_course_1</th>\n",
       "      <th>level_of_satisfaction_for_course_1</th>\n",
       "      <th>grade_for_course_1</th>\n",
       "      <th>instructional_method_for_course_2</th>\n",
       "      <th>level_of_satisfaction_for_course_2</th>\n",
       "      <th>grade_for_course_2</th>\n",
       "      <th>instructional_method_for_course_3</th>\n",
       "      <th>level_of_satisfaction_for_course_3</th>\n",
       "      <th>grade_for_course_3</th>\n",
       "      <th>preferred_method_for_attending_classes</th>\n",
       "      <th>is_commute_time_a_factor_effecting_the_above_answer?</th>\n",
       "    </tr>\n",
       "  </thead>\n",
       "  <tbody>\n",
       "    <tr>\n",
       "      <th>0</th>\n",
       "      <td>Computer Science</td>\n",
       "      <td>NaN</td>\n",
       "      <td>NaN</td>\n",
       "      <td>NaN</td>\n",
       "      <td>NaN</td>\n",
       "      <td>NaN</td>\n",
       "      <td>NaN</td>\n",
       "      <td>NaN</td>\n",
       "      <td>NaN</td>\n",
       "      <td>NaN</td>\n",
       "      <td>Inperson</td>\n",
       "      <td>No</td>\n",
       "    </tr>\n",
       "    <tr>\n",
       "      <th>1</th>\n",
       "      <td>Computer Science</td>\n",
       "      <td>Online</td>\n",
       "      <td>Satisfied</td>\n",
       "      <td>A</td>\n",
       "      <td>Inperson</td>\n",
       "      <td>Satisfied</td>\n",
       "      <td>A</td>\n",
       "      <td>Inperson</td>\n",
       "      <td>Satisfied</td>\n",
       "      <td>A</td>\n",
       "      <td>Inperson</td>\n",
       "      <td>No</td>\n",
       "    </tr>\n",
       "    <tr>\n",
       "      <th>2</th>\n",
       "      <td>Electronics and communication engineering</td>\n",
       "      <td>Online</td>\n",
       "      <td>Satisfied</td>\n",
       "      <td>A</td>\n",
       "      <td>Inperson</td>\n",
       "      <td>Satisfied</td>\n",
       "      <td>A</td>\n",
       "      <td>Inperson</td>\n",
       "      <td>Satisfied</td>\n",
       "      <td>A</td>\n",
       "      <td>Inperson</td>\n",
       "      <td>Maybe</td>\n",
       "    </tr>\n",
       "    <tr>\n",
       "      <th>3</th>\n",
       "      <td>Information Technology</td>\n",
       "      <td>Both</td>\n",
       "      <td>Satisfied</td>\n",
       "      <td>A</td>\n",
       "      <td>Inperson</td>\n",
       "      <td>Satisfied</td>\n",
       "      <td>A</td>\n",
       "      <td>Both</td>\n",
       "      <td>Satisfied</td>\n",
       "      <td>A</td>\n",
       "      <td>Online</td>\n",
       "      <td>Yes</td>\n",
       "    </tr>\n",
       "    <tr>\n",
       "      <th>4</th>\n",
       "      <td>NaN</td>\n",
       "      <td>Online</td>\n",
       "      <td>Satisfied</td>\n",
       "      <td>A</td>\n",
       "      <td>Online</td>\n",
       "      <td>Satisfied</td>\n",
       "      <td>A</td>\n",
       "      <td>Online</td>\n",
       "      <td>Satisfied</td>\n",
       "      <td>A</td>\n",
       "      <td>Online</td>\n",
       "      <td>Yes</td>\n",
       "    </tr>\n",
       "    <tr>\n",
       "      <th>...</th>\n",
       "      <td>...</td>\n",
       "      <td>...</td>\n",
       "      <td>...</td>\n",
       "      <td>...</td>\n",
       "      <td>...</td>\n",
       "      <td>...</td>\n",
       "      <td>...</td>\n",
       "      <td>...</td>\n",
       "      <td>...</td>\n",
       "      <td>...</td>\n",
       "      <td>...</td>\n",
       "      <td>...</td>\n",
       "    </tr>\n",
       "    <tr>\n",
       "      <th>84</th>\n",
       "      <td>Information Technology</td>\n",
       "      <td>Online</td>\n",
       "      <td>Satisfied</td>\n",
       "      <td>A</td>\n",
       "      <td>Online</td>\n",
       "      <td>Satisfied</td>\n",
       "      <td>A</td>\n",
       "      <td>Inperson</td>\n",
       "      <td>Satisfied</td>\n",
       "      <td>A</td>\n",
       "      <td>Online</td>\n",
       "      <td>Yes</td>\n",
       "    </tr>\n",
       "    <tr>\n",
       "      <th>85</th>\n",
       "      <td>Information Technology</td>\n",
       "      <td>Inperson</td>\n",
       "      <td>Satisfied</td>\n",
       "      <td>A</td>\n",
       "      <td>Both</td>\n",
       "      <td>Satisfied</td>\n",
       "      <td>B</td>\n",
       "      <td>Online</td>\n",
       "      <td>Satisfied</td>\n",
       "      <td>A</td>\n",
       "      <td>Inperson</td>\n",
       "      <td>No</td>\n",
       "    </tr>\n",
       "    <tr>\n",
       "      <th>86</th>\n",
       "      <td>Computer Science</td>\n",
       "      <td>Online</td>\n",
       "      <td>Satisfied</td>\n",
       "      <td>A</td>\n",
       "      <td>Online</td>\n",
       "      <td>Satisfied</td>\n",
       "      <td>A</td>\n",
       "      <td>Online</td>\n",
       "      <td>Satisfied</td>\n",
       "      <td>A</td>\n",
       "      <td>Online</td>\n",
       "      <td>Yes</td>\n",
       "    </tr>\n",
       "    <tr>\n",
       "      <th>87</th>\n",
       "      <td>Information Technology</td>\n",
       "      <td>Online</td>\n",
       "      <td>Not Satisfied</td>\n",
       "      <td>B</td>\n",
       "      <td>Online</td>\n",
       "      <td>Satisfied</td>\n",
       "      <td>B</td>\n",
       "      <td>Online</td>\n",
       "      <td>Satisfied</td>\n",
       "      <td>A</td>\n",
       "      <td>Online</td>\n",
       "      <td>Yes</td>\n",
       "    </tr>\n",
       "    <tr>\n",
       "      <th>88</th>\n",
       "      <td>Manufacturing engineering</td>\n",
       "      <td>Both</td>\n",
       "      <td>Satisfied</td>\n",
       "      <td>B</td>\n",
       "      <td>Inperson</td>\n",
       "      <td>Satisfied</td>\n",
       "      <td>A</td>\n",
       "      <td>Inperson</td>\n",
       "      <td>Satisfied</td>\n",
       "      <td>B</td>\n",
       "      <td>Online</td>\n",
       "      <td>Maybe</td>\n",
       "    </tr>\n",
       "  </tbody>\n",
       "</table>\n",
       "<p>89 rows × 12 columns</p>\n",
       "</div>"
      ],
      "text/plain": [
       "                               previous_major  \\\n",
       "0                            Computer Science   \n",
       "1                            Computer Science   \n",
       "2   Electronics and communication engineering   \n",
       "3                     Information Technology    \n",
       "4                                         NaN   \n",
       "..                                        ...   \n",
       "84                     Information Technology   \n",
       "85                     Information Technology   \n",
       "86                           Computer Science   \n",
       "87                     Information Technology   \n",
       "88                 Manufacturing engineering    \n",
       "\n",
       "   instructional_method_for_course_1 level_of_satisfaction_for_course_1  \\\n",
       "0                                NaN                                NaN   \n",
       "1                             Online                          Satisfied   \n",
       "2                             Online                          Satisfied   \n",
       "3                               Both                          Satisfied   \n",
       "4                             Online                          Satisfied   \n",
       "..                               ...                                ...   \n",
       "84                            Online                          Satisfied   \n",
       "85                          Inperson                          Satisfied   \n",
       "86                            Online                          Satisfied   \n",
       "87                            Online                      Not Satisfied   \n",
       "88                              Both                          Satisfied   \n",
       "\n",
       "   grade_for_course_1 instructional_method_for_course_2  \\\n",
       "0                 NaN                               NaN   \n",
       "1                   A                          Inperson   \n",
       "2                   A                          Inperson   \n",
       "3                   A                          Inperson   \n",
       "4                   A                            Online   \n",
       "..                ...                               ...   \n",
       "84                  A                            Online   \n",
       "85                  A                              Both   \n",
       "86                  A                            Online   \n",
       "87                  B                            Online   \n",
       "88                  B                          Inperson   \n",
       "\n",
       "   level_of_satisfaction_for_course_2 grade_for_course_2  \\\n",
       "0                                 NaN                NaN   \n",
       "1                           Satisfied                  A   \n",
       "2                           Satisfied                  A   \n",
       "3                           Satisfied                  A   \n",
       "4                           Satisfied                  A   \n",
       "..                                ...                ...   \n",
       "84                          Satisfied                  A   \n",
       "85                          Satisfied                  B   \n",
       "86                          Satisfied                  A   \n",
       "87                          Satisfied                  B   \n",
       "88                          Satisfied                  A   \n",
       "\n",
       "   instructional_method_for_course_3 level_of_satisfaction_for_course_3  \\\n",
       "0                                NaN                                NaN   \n",
       "1                           Inperson                          Satisfied   \n",
       "2                           Inperson                          Satisfied   \n",
       "3                               Both                          Satisfied   \n",
       "4                             Online                          Satisfied   \n",
       "..                               ...                                ...   \n",
       "84                          Inperson                          Satisfied   \n",
       "85                            Online                          Satisfied   \n",
       "86                            Online                          Satisfied   \n",
       "87                            Online                          Satisfied   \n",
       "88                          Inperson                          Satisfied   \n",
       "\n",
       "   grade_for_course_3 preferred_method_for_attending_classes  \\\n",
       "0                 NaN                               Inperson   \n",
       "1                   A                               Inperson   \n",
       "2                   A                               Inperson   \n",
       "3                   A                                 Online   \n",
       "4                   A                                 Online   \n",
       "..                ...                                    ...   \n",
       "84                  A                                 Online   \n",
       "85                  A                               Inperson   \n",
       "86                  A                                 Online   \n",
       "87                  A                                 Online   \n",
       "88                  B                                 Online   \n",
       "\n",
       "   is_commute_time_a_factor_effecting_the_above_answer?  \n",
       "0                                                  No    \n",
       "1                                                  No    \n",
       "2                                               Maybe    \n",
       "3                                                 Yes    \n",
       "4                                                 Yes    \n",
       "..                                                ...    \n",
       "84                                                Yes    \n",
       "85                                                 No    \n",
       "86                                                Yes    \n",
       "87                                                Yes    \n",
       "88                                              Maybe    \n",
       "\n",
       "[89 rows x 12 columns]"
      ]
     },
     "execution_count": 136,
     "metadata": {},
     "output_type": "execute_result"
    }
   ],
   "source": [
    "r4_df"
   ]
  },
  {
   "cell_type": "code",
   "execution_count": 137,
   "id": "38801714-38e8-4499-b08c-b2d44f14b0ef",
   "metadata": {},
   "outputs": [
    {
     "data": {
      "text/plain": [
       "A    60\n",
       "B    23\n",
       "D     2\n",
       "C     1\n",
       "Name: grade_for_course_1, dtype: int64"
      ]
     },
     "execution_count": 137,
     "metadata": {},
     "output_type": "execute_result"
    }
   ],
   "source": [
    "r4_df['grade_for_course_1'].value_counts()"
   ]
  },
  {
   "cell_type": "code",
   "execution_count": 138,
   "id": "328e73d4-4a32-44e0-8f0f-2caeeee3fffb",
   "metadata": {},
   "outputs": [],
   "source": [
    "r4_df.grade_for_course_1=r4_df.grade_for_course_1.apply(lambda s : 'B' if s!='A' else s)\n",
    "r4_df.grade_for_course_2=r4_df.grade_for_course_2.apply(lambda s : 'B' if s!='A' else s)\n",
    "r4_df.grade_for_course_3=r4_df.grade_for_course_3.apply(lambda s : 'B' if s!='A' else s)"
   ]
  },
  {
   "cell_type": "code",
   "execution_count": 139,
   "id": "3baf5f2d-39c6-493d-9a05-2f7532dccd9b",
   "metadata": {},
   "outputs": [
    {
     "data": {
      "text/plain": [
       "A    60\n",
       "B    29\n",
       "Name: grade_for_course_1, dtype: int64"
      ]
     },
     "execution_count": 139,
     "metadata": {},
     "output_type": "execute_result"
    }
   ],
   "source": [
    "r4_df['grade_for_course_1'].value_counts()"
   ]
  },
  {
   "cell_type": "code",
   "execution_count": 140,
   "id": "7427fd3f-10d5-43de-b3ce-aa02d7fe9b1b",
   "metadata": {},
   "outputs": [
    {
     "data": {
      "text/plain": [
       "A    57\n",
       "B    32\n",
       "Name: grade_for_course_2, dtype: int64"
      ]
     },
     "execution_count": 140,
     "metadata": {},
     "output_type": "execute_result"
    }
   ],
   "source": [
    "r4_df['grade_for_course_2'].value_counts()"
   ]
  },
  {
   "cell_type": "code",
   "execution_count": 141,
   "id": "6136e7e3-100d-4b0a-bcdb-75a1d99b26a9",
   "metadata": {},
   "outputs": [
    {
     "data": {
      "text/plain": [
       "A    66\n",
       "B    23\n",
       "Name: grade_for_course_3, dtype: int64"
      ]
     },
     "execution_count": 141,
     "metadata": {},
     "output_type": "execute_result"
    }
   ],
   "source": [
    "r4_df['grade_for_course_3'].value_counts()"
   ]
  },
  {
   "cell_type": "code",
   "execution_count": 142,
   "id": "96d52c48-35be-4ead-983b-2eca88015222",
   "metadata": {},
   "outputs": [
    {
     "data": {
      "text/plain": [
       "Yes      50\n",
       "No       18\n",
       "Maybe    17\n",
       "Name: is_commute_time_a_factor_effecting_the_above_answer?, dtype: int64"
      ]
     },
     "execution_count": 142,
     "metadata": {},
     "output_type": "execute_result"
    }
   ],
   "source": [
    "r4_df['is_commute_time_a_factor_effecting_the_above_answer?'].value_counts()"
   ]
  },
  {
   "cell_type": "code",
   "execution_count": 143,
   "id": "1db2063a-069e-42f3-a5d7-83136fdc75f6",
   "metadata": {},
   "outputs": [],
   "source": [
    "r4_df['is_commute_time_a_factor_effecting_the_above_answer?']=\\\n",
    "r4_df['is_commute_time_a_factor_effecting_the_above_answer?'].apply(lambda s : 'No' if s=='Maybe' else s)"
   ]
  },
  {
   "cell_type": "code",
   "execution_count": 144,
   "id": "9419d27a-5de9-4c89-a81a-23f72e765da5",
   "metadata": {},
   "outputs": [
    {
     "data": {
      "text/plain": [
       "Yes    50\n",
       "No     35\n",
       "Name: is_commute_time_a_factor_effecting_the_above_answer?, dtype: int64"
      ]
     },
     "execution_count": 144,
     "metadata": {},
     "output_type": "execute_result"
    }
   ],
   "source": [
    "r4_df['is_commute_time_a_factor_effecting_the_above_answer?'].value_counts()"
   ]
  },
  {
   "cell_type": "code",
   "execution_count": 145,
   "id": "951c4522-6122-4edd-b7f8-f1ea025c788f",
   "metadata": {},
   "outputs": [
    {
     "data": {
      "text/plain": [
       "Satisfied        71\n",
       "Not Satisfied     9\n",
       "Name: level_of_satisfaction_for_course_3, dtype: int64"
      ]
     },
     "execution_count": 145,
     "metadata": {},
     "output_type": "execute_result"
    }
   ],
   "source": [
    "r4_df['level_of_satisfaction_for_course_3'].value_counts()"
   ]
  },
  {
   "cell_type": "code",
   "execution_count": 133,
   "id": "9b304013-099a-4379-a156-fa67470f6b01",
   "metadata": {},
   "outputs": [],
   "source": [
    "#chi square test"
   ]
  },
  {
   "cell_type": "code",
   "execution_count": 155,
   "id": "5218061b-0398-443d-9a3a-313726cf0203",
   "metadata": {},
   "outputs": [],
   "source": [
    "samp=[]\n",
    "for i in range(1,4) :\n",
    "    for ind,row in r4_df.loc[:,[f'level_of_satisfaction_for_course_{i}',f'grade_for_course_{i}','is_commute_time_a_factor_effecting_the_above_answer?']].iterrows() :\n",
    "        samp.append([row[f'level_of_satisfaction_for_course_{i}'],\\\n",
    "                     row[f'grade_for_course_{i}'],\\\n",
    "                    row['is_commute_time_a_factor_effecting_the_above_answer?']])\n",
    "        \n",
    "        \n",
    "        "
   ]
  },
  {
   "cell_type": "code",
   "execution_count": 156,
   "id": "d4837d62-6635-46cc-a09a-c81fac734c7c",
   "metadata": {},
   "outputs": [],
   "source": [
    "samp=pd.DataFrame(samp,columns=['los','grade','commute_flag'])"
   ]
  },
  {
   "cell_type": "code",
   "execution_count": 157,
   "id": "47c12eaf-4765-4893-a7f6-b07a5f327241",
   "metadata": {},
   "outputs": [
    {
     "data": {
      "text/html": [
       "<div>\n",
       "<style scoped>\n",
       "    .dataframe tbody tr th:only-of-type {\n",
       "        vertical-align: middle;\n",
       "    }\n",
       "\n",
       "    .dataframe tbody tr th {\n",
       "        vertical-align: top;\n",
       "    }\n",
       "\n",
       "    .dataframe thead th {\n",
       "        text-align: right;\n",
       "    }\n",
       "</style>\n",
       "<table border=\"1\" class=\"dataframe\">\n",
       "  <thead>\n",
       "    <tr style=\"text-align: right;\">\n",
       "      <th></th>\n",
       "      <th>los</th>\n",
       "      <th>grade</th>\n",
       "      <th>commute_flag</th>\n",
       "    </tr>\n",
       "  </thead>\n",
       "  <tbody>\n",
       "    <tr>\n",
       "      <th>198</th>\n",
       "      <td>Satisfied</td>\n",
       "      <td>A</td>\n",
       "      <td>No</td>\n",
       "    </tr>\n",
       "    <tr>\n",
       "      <th>15</th>\n",
       "      <td>Satisfied</td>\n",
       "      <td>A</td>\n",
       "      <td>Yes</td>\n",
       "    </tr>\n",
       "  </tbody>\n",
       "</table>\n",
       "</div>"
      ],
      "text/plain": [
       "           los grade commute_flag\n",
       "198  Satisfied     A           No\n",
       "15   Satisfied     A          Yes"
      ]
     },
     "execution_count": 157,
     "metadata": {},
     "output_type": "execute_result"
    }
   ],
   "source": [
    "samp.sample(2)"
   ]
  },
  {
   "cell_type": "code",
   "execution_count": 158,
   "id": "fcc39fd4-3ddb-440d-86cd-eb161afc0ff8",
   "metadata": {},
   "outputs": [
    {
     "data": {
      "text/plain": [
       "A    183\n",
       "B     84\n",
       "Name: grade, dtype: int64"
      ]
     },
     "execution_count": 158,
     "metadata": {},
     "output_type": "execute_result"
    }
   ],
   "source": [
    "samp.grade.value_counts()"
   ]
  },
  {
   "cell_type": "code",
   "execution_count": 159,
   "id": "5bba4d10-3be6-40a3-bc4f-52911b89cb18",
   "metadata": {},
   "outputs": [
    {
     "data": {
      "text/html": [
       "<div>\n",
       "<style scoped>\n",
       "    .dataframe tbody tr th:only-of-type {\n",
       "        vertical-align: middle;\n",
       "    }\n",
       "\n",
       "    .dataframe tbody tr th {\n",
       "        vertical-align: top;\n",
       "    }\n",
       "\n",
       "    .dataframe thead th {\n",
       "        text-align: right;\n",
       "    }\n",
       "</style>\n",
       "<table border=\"1\" class=\"dataframe\">\n",
       "  <thead>\n",
       "    <tr style=\"text-align: right;\">\n",
       "      <th>grade</th>\n",
       "      <th>A</th>\n",
       "      <th>B</th>\n",
       "    </tr>\n",
       "    <tr>\n",
       "      <th>los</th>\n",
       "      <th></th>\n",
       "      <th></th>\n",
       "    </tr>\n",
       "  </thead>\n",
       "  <tbody>\n",
       "    <tr>\n",
       "      <th>Not Satisfied</th>\n",
       "      <td>6</td>\n",
       "      <td>21</td>\n",
       "    </tr>\n",
       "    <tr>\n",
       "      <th>Satisfied</th>\n",
       "      <td>177</td>\n",
       "      <td>46</td>\n",
       "    </tr>\n",
       "  </tbody>\n",
       "</table>\n",
       "</div>"
      ],
      "text/plain": [
       "grade            A   B\n",
       "los                   \n",
       "Not Satisfied    6  21\n",
       "Satisfied      177  46"
      ]
     },
     "execution_count": 159,
     "metadata": {},
     "output_type": "execute_result"
    }
   ],
   "source": [
    "pd.crosstab(samp['los'],samp['grade'])"
   ]
  },
  {
   "cell_type": "code",
   "execution_count": 160,
   "id": "a9082662-210a-47c9-badd-9c1c2ee3a901",
   "metadata": {},
   "outputs": [
    {
     "data": {
      "text/html": [
       "<div>\n",
       "<style scoped>\n",
       "    .dataframe tbody tr th:only-of-type {\n",
       "        vertical-align: middle;\n",
       "    }\n",
       "\n",
       "    .dataframe tbody tr th {\n",
       "        vertical-align: top;\n",
       "    }\n",
       "\n",
       "    .dataframe thead th {\n",
       "        text-align: right;\n",
       "    }\n",
       "</style>\n",
       "<table border=\"1\" class=\"dataframe\">\n",
       "  <thead>\n",
       "    <tr style=\"text-align: right;\">\n",
       "      <th>grade</th>\n",
       "      <th>A</th>\n",
       "      <th>B</th>\n",
       "    </tr>\n",
       "    <tr>\n",
       "      <th>commute_flag</th>\n",
       "      <th></th>\n",
       "      <th></th>\n",
       "    </tr>\n",
       "  </thead>\n",
       "  <tbody>\n",
       "    <tr>\n",
       "      <th>No</th>\n",
       "      <td>70</td>\n",
       "      <td>35</td>\n",
       "    </tr>\n",
       "    <tr>\n",
       "      <th>Yes</th>\n",
       "      <td>111</td>\n",
       "      <td>39</td>\n",
       "    </tr>\n",
       "  </tbody>\n",
       "</table>\n",
       "</div>"
      ],
      "text/plain": [
       "grade           A   B\n",
       "commute_flag         \n",
       "No             70  35\n",
       "Yes           111  39"
      ]
     },
     "execution_count": 160,
     "metadata": {},
     "output_type": "execute_result"
    }
   ],
   "source": [
    "pd.crosstab(samp['commute_flag'],samp['grade'])"
   ]
  },
  {
   "cell_type": "code",
   "execution_count": 151,
   "id": "6800e8d5-f52a-4a3f-876e-436798260e0c",
   "metadata": {},
   "outputs": [
    {
     "name": "stdout",
     "output_type": "stream",
     "text": [
      "p value is 1.046107248910522e-09\n",
      "Dependent (reject H0)\n"
     ]
    }
   ],
   "source": [
    "from scipy.stats import chi2_contingency\n",
    "  \n",
    "# defining the table\n",
    "data = pd.crosstab(samp.los,samp.grade).values\n",
    "stat, p, dof, expected = chi2_contingency(data)\n",
    "  \n",
    "# interpret p-value\n",
    "alpha = 0.05\n",
    "print(\"p value is \" + str(p))\n",
    "if p <= alpha:\n",
    "    print('Dependent (reject H0)')\n",
    "else:\n",
    "    print('Independent (H0 holds true)')"
   ]
  },
  {
   "cell_type": "code",
   "execution_count": 161,
   "id": "ec44b2f9-b747-4348-806e-a764c4c19501",
   "metadata": {},
   "outputs": [
    {
     "name": "stdout",
     "output_type": "stream",
     "text": [
      "p value is 0.25860993152286826\n",
      "Independent (H0 holds true)\n"
     ]
    }
   ],
   "source": [
    "from scipy.stats import chi2_contingency\n",
    "  \n",
    "# defining the table\n",
    "data = pd.crosstab(samp.commute_flag,samp.grade).values\n",
    "stat, p, dof, expected = chi2_contingency(data)\n",
    "  \n",
    "# interpret p-value\n",
    "alpha = 0.05\n",
    "print(\"p value is \" + str(p))\n",
    "if p <= alpha:\n",
    "    print('Dependent (reject H0)')\n",
    "else:\n",
    "    print('Independent (H0 holds true)')"
   ]
  },
  {
   "cell_type": "code",
   "execution_count": null,
   "id": "a14a06bb-d7db-4b29-bfe9-08e53392221b",
   "metadata": {},
   "outputs": [],
   "source": []
  },
  {
   "cell_type": "code",
   "execution_count": 136,
   "id": "84cdf8a8-834d-422c-83f5-72dd371856b5",
   "metadata": {},
   "outputs": [],
   "source": [
    "# from scipy.stats import chi2_contingency\n",
    "  \n",
    "# # defining the table\n",
    "# data = pd.crosstab(df['Current_Degree'],df['Previous_Degree']).values\n",
    "# stat, p, dof, expected = chi2_contingency(data)\n",
    "  \n",
    "# # interpret p-value\n",
    "# alpha = 0.05\n",
    "# print(\"p value is \" + str(p))\n",
    "# if p <= alpha:\n",
    "#     print('Dependent (reject H0)')\n",
    "# else:\n",
    "#     print('Independent (H0 holds true)')"
   ]
  },
  {
   "cell_type": "code",
   "execution_count": 189,
   "id": "3879700e-6457-42e0-a4a4-5944b7c6fa5e",
   "metadata": {},
   "outputs": [],
   "source": [
    "# df.info()"
   ]
  },
  {
   "cell_type": "markdown",
   "id": "7ed5fa72-05fb-4858-879b-c98e19d8809a",
   "metadata": {},
   "source": [
    "<h4>R3 : The third research objective is to understand the differ-\n",
    "ences between a student doing an online class versus traditional\n",
    "\n",
    "learning in afield different from software engineering and software\n",
    "engineering.</h4>"
   ]
  },
  {
   "cell_type": "code",
   "execution_count": 163,
   "id": "96a4dc20-4a75-4a3d-b7f1-79d61a0fb4b5",
   "metadata": {},
   "outputs": [],
   "source": [
    "r3_df=df.copy()"
   ]
  },
  {
   "cell_type": "code",
   "execution_count": 164,
   "id": "eb3b8bf9-8fb5-47ab-a01c-db798b332618",
   "metadata": {},
   "outputs": [],
   "source": [
    "temp=pd.DataFrame(columns=['gender','course','instructional_method','los','grade'])\n",
    "\n",
    "for i in range(1,4) :\n",
    "    t=df.loc[:,['gender',f'course_{i}_name',f'instructional_method_for_course_{i}',f'level_of_satisfaction_for_course_{i}',f'grade_for_course_{i}']]\n",
    "    t.columns=['gender','course','instructional_method','los','grade']\n",
    "    temp=temp.append(t)\n",
    "                     \n",
    "temp=temp.reset_index(drop=True)     \n",
    "\n",
    "temp.grade=temp.grade.apply(lambda s : 'B' if s=='D' else s)\n",
    "temp=temp.dropna()\n",
    "                 "
   ]
  },
  {
   "cell_type": "code",
   "execution_count": 190,
   "id": "ebbb9046-c7b4-4c57-b262-76843aa60f61",
   "metadata": {},
   "outputs": [],
   "source": [
    "# temp.info()"
   ]
  },
  {
   "cell_type": "code",
   "execution_count": 166,
   "id": "f35232ab-e834-4031-a18c-d76f9c12be9c",
   "metadata": {},
   "outputs": [
    {
     "data": {
      "text/html": [
       "<div>\n",
       "<style scoped>\n",
       "    .dataframe tbody tr th:only-of-type {\n",
       "        vertical-align: middle;\n",
       "    }\n",
       "\n",
       "    .dataframe tbody tr th {\n",
       "        vertical-align: top;\n",
       "    }\n",
       "\n",
       "    .dataframe thead th {\n",
       "        text-align: right;\n",
       "    }\n",
       "</style>\n",
       "<table border=\"1\" class=\"dataframe\">\n",
       "  <thead>\n",
       "    <tr style=\"text-align: right;\">\n",
       "      <th></th>\n",
       "      <th>gender</th>\n",
       "      <th>course</th>\n",
       "      <th>instructional_method</th>\n",
       "      <th>los</th>\n",
       "      <th>grade</th>\n",
       "    </tr>\n",
       "  </thead>\n",
       "  <tbody>\n",
       "    <tr>\n",
       "      <th>1</th>\n",
       "      <td>Male</td>\n",
       "      <td>Software Engineering</td>\n",
       "      <td>Online</td>\n",
       "      <td>Satisfied</td>\n",
       "      <td>A</td>\n",
       "    </tr>\n",
       "    <tr>\n",
       "      <th>2</th>\n",
       "      <td>Female</td>\n",
       "      <td>Foundations of software engineering</td>\n",
       "      <td>Online</td>\n",
       "      <td>Satisfied</td>\n",
       "      <td>A</td>\n",
       "    </tr>\n",
       "    <tr>\n",
       "      <th>3</th>\n",
       "      <td>Female</td>\n",
       "      <td>Software Engineering</td>\n",
       "      <td>Both</td>\n",
       "      <td>Satisfied</td>\n",
       "      <td>A</td>\n",
       "    </tr>\n",
       "    <tr>\n",
       "      <th>4</th>\n",
       "      <td>Female</td>\n",
       "      <td>Advance machine learning</td>\n",
       "      <td>Online</td>\n",
       "      <td>Satisfied</td>\n",
       "      <td>A</td>\n",
       "    </tr>\n",
       "    <tr>\n",
       "      <th>5</th>\n",
       "      <td>Male</td>\n",
       "      <td>Human factors engineering</td>\n",
       "      <td>Inperson</td>\n",
       "      <td>Satisfied</td>\n",
       "      <td>B</td>\n",
       "    </tr>\n",
       "    <tr>\n",
       "      <th>...</th>\n",
       "      <td>...</td>\n",
       "      <td>...</td>\n",
       "      <td>...</td>\n",
       "      <td>...</td>\n",
       "      <td>...</td>\n",
       "    </tr>\n",
       "    <tr>\n",
       "      <th>262</th>\n",
       "      <td>Female</td>\n",
       "      <td>Machine Learning</td>\n",
       "      <td>Inperson</td>\n",
       "      <td>Satisfied</td>\n",
       "      <td>A</td>\n",
       "    </tr>\n",
       "    <tr>\n",
       "      <th>263</th>\n",
       "      <td>Male</td>\n",
       "      <td>Foundation of Software Engineering</td>\n",
       "      <td>Online</td>\n",
       "      <td>Satisfied</td>\n",
       "      <td>A</td>\n",
       "    </tr>\n",
       "    <tr>\n",
       "      <th>264</th>\n",
       "      <td>Male</td>\n",
       "      <td>Project Management</td>\n",
       "      <td>Online</td>\n",
       "      <td>Satisfied</td>\n",
       "      <td>A</td>\n",
       "    </tr>\n",
       "    <tr>\n",
       "      <th>265</th>\n",
       "      <td>Male</td>\n",
       "      <td>Deep Learning</td>\n",
       "      <td>Online</td>\n",
       "      <td>Satisfied</td>\n",
       "      <td>A</td>\n",
       "    </tr>\n",
       "    <tr>\n",
       "      <th>266</th>\n",
       "      <td>Male</td>\n",
       "      <td>Human factors engineering</td>\n",
       "      <td>Inperson</td>\n",
       "      <td>Satisfied</td>\n",
       "      <td>B</td>\n",
       "    </tr>\n",
       "  </tbody>\n",
       "</table>\n",
       "<p>246 rows × 5 columns</p>\n",
       "</div>"
      ],
      "text/plain": [
       "     gender                               course instructional_method  \\\n",
       "1      Male                 Software Engineering               Online   \n",
       "2    Female  Foundations of software engineering               Online   \n",
       "3    Female                Software Engineering                  Both   \n",
       "4    Female             Advance machine learning               Online   \n",
       "5      Male           Human factors engineering              Inperson   \n",
       "..      ...                                  ...                  ...   \n",
       "262  Female                     Machine Learning             Inperson   \n",
       "263    Male   Foundation of Software Engineering               Online   \n",
       "264    Male                   Project Management               Online   \n",
       "265    Male                        Deep Learning               Online   \n",
       "266    Male           Human factors engineering              Inperson   \n",
       "\n",
       "           los grade  \n",
       "1    Satisfied     A  \n",
       "2    Satisfied     A  \n",
       "3    Satisfied     A  \n",
       "4    Satisfied     A  \n",
       "5    Satisfied     B  \n",
       "..         ...   ...  \n",
       "262  Satisfied     A  \n",
       "263  Satisfied     A  \n",
       "264  Satisfied     A  \n",
       "265  Satisfied     A  \n",
       "266  Satisfied     B  \n",
       "\n",
       "[246 rows x 5 columns]"
      ]
     },
     "execution_count": 166,
     "metadata": {},
     "output_type": "execute_result"
    }
   ],
   "source": [
    "temp"
   ]
  },
  {
   "cell_type": "code",
   "execution_count": 167,
   "id": "3e7f83ea-c557-4216-8cd0-099527cd07cd",
   "metadata": {},
   "outputs": [
    {
     "data": {
      "text/plain": [
       "Male      179\n",
       "Female     67\n",
       "Name: gender, dtype: int64"
      ]
     },
     "execution_count": 167,
     "metadata": {},
     "output_type": "execute_result"
    }
   ],
   "source": [
    "temp.gender.value_counts()"
   ]
  },
  {
   "cell_type": "code",
   "execution_count": 171,
   "id": "6977f3ac-d242-40e8-96cd-5f3a6454bf07",
   "metadata": {},
   "outputs": [
    {
     "data": {
      "text/plain": [
       "A    181\n",
       "B     65\n",
       "Name: grade, dtype: int64"
      ]
     },
     "execution_count": 171,
     "metadata": {},
     "output_type": "execute_result"
    }
   ],
   "source": [
    "temp.grade=temp.grade.apply(lambda s : 'B' if s!='A' else s)\n",
    "temp.grade.value_counts()"
   ]
  },
  {
   "cell_type": "code",
   "execution_count": 172,
   "id": "2bf2882c-cfb1-4233-aba2-85dbf09bddf2",
   "metadata": {},
   "outputs": [
    {
     "data": {
      "text/plain": [
       "Satisfied        219\n",
       "Not Satisfied     27\n",
       "Name: los, dtype: int64"
      ]
     },
     "execution_count": 172,
     "metadata": {},
     "output_type": "execute_result"
    }
   ],
   "source": [
    "temp.los.value_counts()"
   ]
  },
  {
   "cell_type": "code",
   "execution_count": 173,
   "id": "f3ab4b29-48f0-46bd-9010-436516daa93e",
   "metadata": {},
   "outputs": [
    {
     "data": {
      "text/plain": [
       "Online      111\n",
       "Inperson     88\n",
       "Both         47\n",
       "Name: instructional_method, dtype: int64"
      ]
     },
     "execution_count": 173,
     "metadata": {},
     "output_type": "execute_result"
    }
   ],
   "source": [
    "temp.instructional_method.value_counts()"
   ]
  },
  {
   "cell_type": "code",
   "execution_count": 175,
   "id": "a869de5a-41ba-4ed7-bfed-58b124a7a607",
   "metadata": {},
   "outputs": [],
   "source": [
    "temp['course_label']='kavy'"
   ]
  },
  {
   "cell_type": "code",
   "execution_count": 191,
   "id": "869b61ca-bcfb-44c2-95e7-9009beb96324",
   "metadata": {},
   "outputs": [],
   "source": [
    "# temp.loc[temp.course.str.lower().str.contains('software engineering')]"
   ]
  },
  {
   "cell_type": "code",
   "execution_count": 177,
   "id": "c3613a61-9367-4a57-9994-ef4a7ca61f5f",
   "metadata": {},
   "outputs": [],
   "source": [
    "temp['course_label']=temp.course.apply(lambda s : 'soft' if 'software engineering' in s.lower() else 'hard')"
   ]
  },
  {
   "cell_type": "code",
   "execution_count": 178,
   "id": "47fc5bc0-5c37-4810-9711-9e1b59ca970a",
   "metadata": {},
   "outputs": [
    {
     "data": {
      "text/html": [
       "<div>\n",
       "<style scoped>\n",
       "    .dataframe tbody tr th:only-of-type {\n",
       "        vertical-align: middle;\n",
       "    }\n",
       "\n",
       "    .dataframe tbody tr th {\n",
       "        vertical-align: top;\n",
       "    }\n",
       "\n",
       "    .dataframe thead th {\n",
       "        text-align: right;\n",
       "    }\n",
       "</style>\n",
       "<table border=\"1\" class=\"dataframe\">\n",
       "  <thead>\n",
       "    <tr style=\"text-align: right;\">\n",
       "      <th></th>\n",
       "      <th>gender</th>\n",
       "      <th>course</th>\n",
       "      <th>instructional_method</th>\n",
       "      <th>los</th>\n",
       "      <th>grade</th>\n",
       "      <th>course_label</th>\n",
       "    </tr>\n",
       "  </thead>\n",
       "  <tbody>\n",
       "    <tr>\n",
       "      <th>1</th>\n",
       "      <td>Male</td>\n",
       "      <td>Software Engineering</td>\n",
       "      <td>Online</td>\n",
       "      <td>Satisfied</td>\n",
       "      <td>A</td>\n",
       "      <td>soft</td>\n",
       "    </tr>\n",
       "    <tr>\n",
       "      <th>2</th>\n",
       "      <td>Female</td>\n",
       "      <td>Foundations of software engineering</td>\n",
       "      <td>Online</td>\n",
       "      <td>Satisfied</td>\n",
       "      <td>A</td>\n",
       "      <td>soft</td>\n",
       "    </tr>\n",
       "    <tr>\n",
       "      <th>3</th>\n",
       "      <td>Female</td>\n",
       "      <td>Software Engineering</td>\n",
       "      <td>Both</td>\n",
       "      <td>Satisfied</td>\n",
       "      <td>A</td>\n",
       "      <td>soft</td>\n",
       "    </tr>\n",
       "    <tr>\n",
       "      <th>4</th>\n",
       "      <td>Female</td>\n",
       "      <td>Advance machine learning</td>\n",
       "      <td>Online</td>\n",
       "      <td>Satisfied</td>\n",
       "      <td>A</td>\n",
       "      <td>hard</td>\n",
       "    </tr>\n",
       "    <tr>\n",
       "      <th>5</th>\n",
       "      <td>Male</td>\n",
       "      <td>Human factors engineering</td>\n",
       "      <td>Inperson</td>\n",
       "      <td>Satisfied</td>\n",
       "      <td>B</td>\n",
       "      <td>hard</td>\n",
       "    </tr>\n",
       "    <tr>\n",
       "      <th>...</th>\n",
       "      <td>...</td>\n",
       "      <td>...</td>\n",
       "      <td>...</td>\n",
       "      <td>...</td>\n",
       "      <td>...</td>\n",
       "      <td>...</td>\n",
       "    </tr>\n",
       "    <tr>\n",
       "      <th>262</th>\n",
       "      <td>Female</td>\n",
       "      <td>Machine Learning</td>\n",
       "      <td>Inperson</td>\n",
       "      <td>Satisfied</td>\n",
       "      <td>A</td>\n",
       "      <td>hard</td>\n",
       "    </tr>\n",
       "    <tr>\n",
       "      <th>263</th>\n",
       "      <td>Male</td>\n",
       "      <td>Foundation of Software Engineering</td>\n",
       "      <td>Online</td>\n",
       "      <td>Satisfied</td>\n",
       "      <td>A</td>\n",
       "      <td>soft</td>\n",
       "    </tr>\n",
       "    <tr>\n",
       "      <th>264</th>\n",
       "      <td>Male</td>\n",
       "      <td>Project Management</td>\n",
       "      <td>Online</td>\n",
       "      <td>Satisfied</td>\n",
       "      <td>A</td>\n",
       "      <td>hard</td>\n",
       "    </tr>\n",
       "    <tr>\n",
       "      <th>265</th>\n",
       "      <td>Male</td>\n",
       "      <td>Deep Learning</td>\n",
       "      <td>Online</td>\n",
       "      <td>Satisfied</td>\n",
       "      <td>A</td>\n",
       "      <td>hard</td>\n",
       "    </tr>\n",
       "    <tr>\n",
       "      <th>266</th>\n",
       "      <td>Male</td>\n",
       "      <td>Human factors engineering</td>\n",
       "      <td>Inperson</td>\n",
       "      <td>Satisfied</td>\n",
       "      <td>B</td>\n",
       "      <td>hard</td>\n",
       "    </tr>\n",
       "  </tbody>\n",
       "</table>\n",
       "<p>246 rows × 6 columns</p>\n",
       "</div>"
      ],
      "text/plain": [
       "     gender                               course instructional_method  \\\n",
       "1      Male                 Software Engineering               Online   \n",
       "2    Female  Foundations of software engineering               Online   \n",
       "3    Female                Software Engineering                  Both   \n",
       "4    Female             Advance machine learning               Online   \n",
       "5      Male           Human factors engineering              Inperson   \n",
       "..      ...                                  ...                  ...   \n",
       "262  Female                     Machine Learning             Inperson   \n",
       "263    Male   Foundation of Software Engineering               Online   \n",
       "264    Male                   Project Management               Online   \n",
       "265    Male                        Deep Learning               Online   \n",
       "266    Male           Human factors engineering              Inperson   \n",
       "\n",
       "           los grade course_label  \n",
       "1    Satisfied     A         soft  \n",
       "2    Satisfied     A         soft  \n",
       "3    Satisfied     A         soft  \n",
       "4    Satisfied     A         hard  \n",
       "5    Satisfied     B         hard  \n",
       "..         ...   ...          ...  \n",
       "262  Satisfied     A         hard  \n",
       "263  Satisfied     A         soft  \n",
       "264  Satisfied     A         hard  \n",
       "265  Satisfied     A         hard  \n",
       "266  Satisfied     B         hard  \n",
       "\n",
       "[246 rows x 6 columns]"
      ]
     },
     "execution_count": 178,
     "metadata": {},
     "output_type": "execute_result"
    }
   ],
   "source": [
    "temp"
   ]
  },
  {
   "cell_type": "code",
   "execution_count": 179,
   "id": "5b680155-6de0-48f8-be4b-1a2d664906d7",
   "metadata": {},
   "outputs": [
    {
     "data": {
      "text/plain": [
       "array(['Online', 'Both', 'Inperson'], dtype=object)"
      ]
     },
     "execution_count": 179,
     "metadata": {},
     "output_type": "execute_result"
    }
   ],
   "source": [
    "temp.instructional_method.unique()"
   ]
  },
  {
   "cell_type": "code",
   "execution_count": 180,
   "id": "2060c47b-d2e1-42a0-8080-6d66e03d024a",
   "metadata": {},
   "outputs": [
    {
     "data": {
      "text/plain": [
       "array(['soft', 'hard'], dtype=object)"
      ]
     },
     "execution_count": 180,
     "metadata": {},
     "output_type": "execute_result"
    }
   ],
   "source": [
    "temp.course_label.unique()"
   ]
  },
  {
   "cell_type": "code",
   "execution_count": 181,
   "id": "9843ed80-e4a6-4eaa-8a18-3d2d71cc1eb1",
   "metadata": {},
   "outputs": [
    {
     "name": "stdout",
     "output_type": "stream",
     "text": [
      "\n",
      "Online\n",
      "course_label  hard  soft\n",
      "grade                   \n",
      "A               63    24\n",
      "B               23     1\n",
      "\n",
      "Both\n",
      "course_label  hard  soft\n",
      "grade                   \n",
      "A               35     2\n",
      "B               10     0\n",
      "\n",
      "Inperson\n",
      "course_label  hard  soft\n",
      "grade                   \n",
      "A               56     1\n",
      "B               31     0\n",
      "\n"
     ]
    }
   ],
   "source": [
    "print()\n",
    "for each in ['Online', 'Both', 'Inperson'] :\n",
    "    temp_df=temp.loc[temp['instructional_method']==each]\n",
    "    print(each)\n",
    "    print(pd.crosstab(temp_df.grade,temp_df.course_label))\n",
    "    print()"
   ]
  },
  {
   "cell_type": "code",
   "execution_count": 182,
   "id": "ccf4a82d-eb5f-4c33-ac93-7326cbb713c0",
   "metadata": {},
   "outputs": [
    {
     "name": "stdout",
     "output_type": "stream",
     "text": [
      "\n",
      "soft\n",
      "instructional_method  Both  Inperson  Online\n",
      "grade                                       \n",
      "A                        2         1      24\n",
      "B                        0         0       1\n",
      "\n",
      "hard\n",
      "instructional_method  Both  Inperson  Online\n",
      "grade                                       \n",
      "A                       35        56      63\n",
      "B                       10        31      23\n",
      "\n"
     ]
    }
   ],
   "source": [
    "print()\n",
    "for each in ['soft', 'hard'] :\n",
    "    temp_df=temp.loc[temp['course_label']==each]\n",
    "    print(each)\n",
    "    print(pd.crosstab(temp_df.grade,temp_df.instructional_method))\n",
    "    print()"
   ]
  },
  {
   "cell_type": "code",
   "execution_count": null,
   "id": "67cfd044-6e0b-4520-988f-238fc7caec5f",
   "metadata": {},
   "outputs": [],
   "source": []
  },
  {
   "cell_type": "code",
   "execution_count": 186,
   "id": "844baa2e-87ec-49cb-94d7-2e1184838c2b",
   "metadata": {},
   "outputs": [
    {
     "name": "stdout",
     "output_type": "stream",
     "text": [
      "p value is 0.007241255596707472\n",
      "Dependent (reject H0)\n"
     ]
    }
   ],
   "source": [
    "from scipy.stats import chi2_contingency\n",
    "  \n",
    "# defining the table\n",
    "data = pd.crosstab(temp.course_label,temp.grade).values\n",
    "stat, p, dof, expected = chi2_contingency(data)\n",
    "  \n",
    "# interpret p-value\n",
    "alpha = 0.05\n",
    "print(\"p value is \" + str(p))\n",
    "if p <= alpha:\n",
    "    print('Dependent (reject H0)')\n",
    "else:\n",
    "    print('Independent (H0 holds true)')"
   ]
  },
  {
   "cell_type": "code",
   "execution_count": 187,
   "id": "af859afb-046c-49c0-a99a-9cdd51771c8d",
   "metadata": {},
   "outputs": [
    {
     "name": "stdout",
     "output_type": "stream",
     "text": [
      "p value is 0.0019362192311904068\n",
      "Dependent (reject H0)\n"
     ]
    }
   ],
   "source": [
    "from scipy.stats import chi2_contingency\n",
    "  \n",
    "# defining the table\n",
    "data = pd.crosstab(temp.course_label,temp.gender).values\n",
    "stat, p, dof, expected = chi2_contingency(data)\n",
    "  \n",
    "# interpret p-value\n",
    "alpha = 0.05\n",
    "print(\"p value is \" + str(p))\n",
    "if p <= alpha:\n",
    "    print('Dependent (reject H0)')\n",
    "else:\n",
    "    print('Independent (H0 holds true)')"
   ]
  },
  {
   "cell_type": "code",
   "execution_count": 188,
   "id": "9248c93f-dfca-4859-aeb0-3dea0e3fbeac",
   "metadata": {},
   "outputs": [
    {
     "name": "stdout",
     "output_type": "stream",
     "text": [
      "p value is 0.31233268033864947\n",
      "Independent (H0 holds true)\n"
     ]
    }
   ],
   "source": [
    "from scipy.stats import chi2_contingency\n",
    "  \n",
    "# defining the table\n",
    "data = pd.crosstab(temp.course_label,temp.los).values\n",
    "stat, p, dof, expected = chi2_contingency(data)\n",
    "  \n",
    "# interpret p-value\n",
    "alpha = 0.05\n",
    "print(\"p value is \" + str(p))\n",
    "if p <= alpha:\n",
    "    print('Dependent (reject H0)')\n",
    "else:\n",
    "    print('Independent (H0 holds true)')"
   ]
  },
  {
   "cell_type": "code",
   "execution_count": null,
   "id": "e9adbabf-df64-40e7-9835-eb3092597747",
   "metadata": {},
   "outputs": [],
   "source": []
  }
 ],
 "metadata": {
  "kernelspec": {
   "display_name": "Python 3 (ipykernel)",
   "language": "python",
   "name": "python3"
  },
  "language_info": {
   "codemirror_mode": {
    "name": "ipython",
    "version": 3
   },
   "file_extension": ".py",
   "mimetype": "text/x-python",
   "name": "python",
   "nbconvert_exporter": "python",
   "pygments_lexer": "ipython3",
   "version": "3.7.4"
  }
 },
 "nbformat": 4,
 "nbformat_minor": 5
}
